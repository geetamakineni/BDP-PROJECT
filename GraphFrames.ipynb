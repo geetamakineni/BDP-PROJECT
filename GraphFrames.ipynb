{
 "cells": [
  {
   "cell_type": "code",
   "execution_count": 1,
   "metadata": {
    "collapsed": true
   },
   "outputs": [],
   "source": [
    "from pyspark import SparkContext\n",
    "from graphframes import *"
   ]
  },
  {
   "cell_type": "code",
   "execution_count": 2,
   "metadata": {
    "collapsed": true
   },
   "outputs": [],
   "source": [
    "from pyspark import *\n",
    "from pyspark.sql import *"
   ]
  },
  {
   "cell_type": "code",
   "execution_count": 3,
   "metadata": {
    "collapsed": true
   },
   "outputs": [],
   "source": [
    "import findspark"
   ]
  },
  {
   "cell_type": "code",
   "execution_count": 4,
   "metadata": {
    "collapsed": false
   },
   "outputs": [],
   "source": [
    "sc=SparkContext().getOrCreate()"
   ]
  },
  {
   "cell_type": "code",
   "execution_count": 5,
   "metadata": {
    "collapsed": true
   },
   "outputs": [],
   "source": [
    "sqlcontext=SQLContext(sc)"
   ]
  },
  {
   "cell_type": "code",
   "execution_count": 12,
   "metadata": {
    "collapsed": true
   },
   "outputs": [],
   "source": [
    "df=sqlcontext.read.format(\"json\").option(\"header\",\"true\").json(\"data.json\")"
   ]
  },
  {
   "cell_type": "code",
   "execution_count": 13,
   "metadata": {
    "collapsed": true
   },
   "outputs": [],
   "source": [
    "df.registerTempTable(\"Twitter\")"
   ]
  },
  {
   "cell_type": "code",
   "execution_count": 45,
   "metadata": {
    "collapsed": false
   },
   "outputs": [],
   "source": [
    "vertices=sqlcontext.sql('SELECT id,user.location FROM Twitter where user.location is not null limit 10')"
   ]
  },
  {
   "cell_type": "code",
   "execution_count": 46,
   "metadata": {
    "collapsed": false
   },
   "outputs": [
    {
     "name": "stdout",
     "output_type": "stream",
     "text": [
      "+-------------------+--------------------+\n",
      "|                 id|            location|\n",
      "+-------------------+--------------------+\n",
      "|1194836026931462145|       uniondale, ny|\n",
      "|1194836027258654727|     Space City 💫🚀|\n",
      "|1194836027292045312|           Beaverton|\n",
      "|1194836027820498945|          Texas, USA|\n",
      "|1194836028244332544|        Indiana, USA|\n",
      "|1194836028231536641|          The Garden|\n",
      "|1194836028407726080|     California, USA|\n",
      "|1194836028508581888|Ramsgate, South A...|\n",
      "|1194836028848300038|             Azeroth|\n",
      "|1194836029557088256|        New York, NY|\n",
      "+-------------------+--------------------+\n",
      "\n"
     ]
    }
   ],
   "source": [
    "vertices.show()"
   ]
  },
  {
   "cell_type": "code",
   "execution_count": 38,
   "metadata": {
    "collapsed": false
   },
   "outputs": [],
   "source": [
    "edges=sqlcontext.sql('select user.name as src, user.followers_count as dst from Twitter where user.name is not null')"
   ]
  },
  {
   "cell_type": "code",
   "execution_count": 39,
   "metadata": {
    "collapsed": false
   },
   "outputs": [
    {
     "name": "stdout",
     "output_type": "stream",
     "text": [
      "+--------------------+------+\n",
      "|                 src|   dst|\n",
      "+--------------------+------+\n",
      "|                alex|   330|\n",
      "|               Gabby|   113|\n",
      "|                Alex|   197|\n",
      "|Richard McCarthy IV.|   204|\n",
      "|        Classic Pics|308673|\n",
      "|  SpookySalinas 👻🎃|   190|\n",
      "|        Nada Tuffaha|   681|\n",
      "|            ☆ LILI ☆|   181|\n",
      "|Kemba will drop 2...|   106|\n",
      "|         Y E L L O W|   607|\n",
      "|        REECE DECLAN|    33|\n",
      "|                  li|   119|\n",
      "|                 geo|   117|\n",
      "|                 Vel|   300|\n",
      "|                Matt|    60|\n",
      "| 𝙏𝙝𝙖𝙩 𝘽𝙞𝙩𝙘𝙝|  1029|\n",
      "|          PS Forever|   148|\n",
      "|               Mochi|     0|\n",
      "|🐇𝔇𝔬𝔩𝔩𝔞𝔯 𝔖...|   152|\n",
      "|          𝔠𝔥𝔯𝔦𝔰|   866|\n",
      "+--------------------+------+\n",
      "only showing top 20 rows\n",
      "\n"
     ]
    }
   ],
   "source": [
    "edges.show()"
   ]
  },
  {
   "cell_type": "code",
   "execution_count": 40,
   "metadata": {
    "collapsed": true
   },
   "outputs": [],
   "source": [
    "from graphframes import *"
   ]
  },
  {
   "cell_type": "code",
   "execution_count": 47,
   "metadata": {
    "collapsed": true
   },
   "outputs": [],
   "source": [
    "graph=GraphFrame(vertices,edges)"
   ]
  },
  {
   "cell_type": "code",
   "execution_count": 48,
   "metadata": {
    "collapsed": false
   },
   "outputs": [
    {
     "name": "stdout",
     "output_type": "stream",
     "text": [
      "+-------------------+--------------------+\n",
      "|                 id|            location|\n",
      "+-------------------+--------------------+\n",
      "|1194836026931462145|       uniondale, ny|\n",
      "|1194836027258654727|     Space City 💫🚀|\n",
      "|1194836027292045312|           Beaverton|\n",
      "|1194836027820498945|          Texas, USA|\n",
      "|1194836028244332544|        Indiana, USA|\n",
      "|1194836028231536641|          The Garden|\n",
      "|1194836028407726080|     California, USA|\n",
      "|1194836028508581888|Ramsgate, South A...|\n",
      "|1194836028848300038|             Azeroth|\n",
      "|1194836029557088256|        New York, NY|\n",
      "+-------------------+--------------------+\n",
      "\n"
     ]
    }
   ],
   "source": [
    "graph.vertices.show()"
   ]
  },
  {
   "cell_type": "code",
   "execution_count": 49,
   "metadata": {
    "collapsed": false
   },
   "outputs": [
    {
     "name": "stdout",
     "output_type": "stream",
     "text": [
      "+--------------------+------+\n",
      "|                 src|   dst|\n",
      "+--------------------+------+\n",
      "|                alex|   330|\n",
      "|               Gabby|   113|\n",
      "|                Alex|   197|\n",
      "|Richard McCarthy IV.|   204|\n",
      "|        Classic Pics|308673|\n",
      "|  SpookySalinas 👻🎃|   190|\n",
      "|        Nada Tuffaha|   681|\n",
      "|            ☆ LILI ☆|   181|\n",
      "|Kemba will drop 2...|   106|\n",
      "|         Y E L L O W|   607|\n",
      "|        REECE DECLAN|    33|\n",
      "|                  li|   119|\n",
      "|                 geo|   117|\n",
      "|                 Vel|   300|\n",
      "|                Matt|    60|\n",
      "| 𝙏𝙝𝙖𝙩 𝘽𝙞𝙩𝙘𝙝|  1029|\n",
      "|          PS Forever|   148|\n",
      "|               Mochi|     0|\n",
      "|🐇𝔇𝔬𝔩𝔩𝔞𝔯 𝔖...|   152|\n",
      "|          𝔠𝔥𝔯𝔦𝔰|   866|\n",
      "+--------------------+------+\n",
      "only showing top 20 rows\n",
      "\n"
     ]
    }
   ],
   "source": [
    "graph.edges.show()"
   ]
  },
  {
   "cell_type": "code",
   "execution_count": 50,
   "metadata": {
    "collapsed": false
   },
   "outputs": [
    {
     "name": "stdout",
     "output_type": "stream",
     "text": [
      "+------+--------+\n",
      "|    id|inDegree|\n",
      "+------+--------+\n",
      "|    29|     760|\n",
      "|    26|     857|\n",
      "|   474|     162|\n",
      "|  2250|      14|\n",
      "|   964|      71|\n",
      "|  1677|      17|\n",
      "|  2509|      13|\n",
      "|  1950|      19|\n",
      "|  3506|       6|\n",
      "|  3091|       8|\n",
      "|  3764|       5|\n",
      "|  1806|      16|\n",
      "|  2040|      14|\n",
      "|  2453|       5|\n",
      "|  2927|       3|\n",
      "|229723|       1|\n",
      "|  2214|       8|\n",
      "|  2529|       8|\n",
      "|  5409|       2|\n",
      "|  1697|      27|\n",
      "+------+--------+\n",
      "only showing top 20 rows\n",
      "\n"
     ]
    }
   ],
   "source": [
    "graph.inDegrees.show()"
   ]
  },
  {
   "cell_type": "code",
   "execution_count": 51,
   "metadata": {
    "collapsed": false
   },
   "outputs": [
    {
     "name": "stdout",
     "output_type": "stream",
     "text": [
      "+------------------+---------+\n",
      "|                id|outDegree|\n",
      "+------------------+---------+\n",
      "|        ☾Michelle☽|        3|\n",
      "|        donna cook|        1|\n",
      "|               𝖐.|        1|\n",
      "|          Cassie☆彡|        1|\n",
      "|              Nell|        3|\n",
      "|              KJH☆|        1|\n",
      "|             oscar|       10|\n",
      "|                t.|        9|\n",
      "|                🌟|       34|\n",
      "|     Edvin Escober|        1|\n",
      "|        Nazia ♌️🌞|        1|\n",
      "|  phlower child 🌻|        1|\n",
      "|Pomf & Thud Actu's|       11|\n",
      "|               dri|        2|\n",
      "|        💧Briana🥀|        1|\n",
      "|             ruben|        3|\n",
      "|   Sha-leer-uh🇧🇧|        1|\n",
      "|                 K|       63|\n",
      "|              simo|        1|\n",
      "|           malissa|        1|\n",
      "+------------------+---------+\n",
      "only showing top 20 rows\n",
      "\n"
     ]
    }
   ],
   "source": [
    "graph.outDegrees.show()"
   ]
  },
  {
   "cell_type": "code",
   "execution_count": 52,
   "metadata": {
    "collapsed": false
   },
   "outputs": [
    {
     "name": "stdout",
     "output_type": "stream",
     "text": [
      "+-----+-------------------+--------------------+\n",
      "|count|                 id|            location|\n",
      "+-----+-------------------+--------------------+\n",
      "|    0|1194836026931462145|       uniondale, ny|\n",
      "|    0|1194836027292045312|           Beaverton|\n",
      "|    0|1194836029557088256|        New York, NY|\n",
      "|    0|1194836028407726080|     California, USA|\n",
      "|    0|1194836028244332544|        Indiana, USA|\n",
      "|    0|1194836028508581888|Ramsgate, South A...|\n",
      "|    0|1194836027820498945|          Texas, USA|\n",
      "|    0|1194836028231536641|          The Garden|\n",
      "|    0|1194836028848300038|             Azeroth|\n",
      "|    0|1194836027258654727|     Space City 💫🚀|\n",
      "+-----+-------------------+--------------------+\n",
      "\n"
     ]
    }
   ],
   "source": [
    "graph.triangleCount().show()"
   ]
  },
  {
   "cell_type": "code",
   "execution_count": 39,
   "metadata": {
    "collapsed": true
   },
   "outputs": [],
   "source": [
    "graph.vertices.write.parquet(\"vertices\")\n",
    "graph.edges.write.parquet(\"edges\")"
   ]
  }
 ],
 "metadata": {
  "anaconda-cloud": {},
  "kernelspec": {
   "display_name": "Python [conda env:pythonproject]",
   "language": "python",
   "name": "conda-env-pythonproject-py"
  },
  "language_info": {
   "codemirror_mode": {
    "name": "ipython",
    "version": 3
   },
   "file_extension": ".py",
   "mimetype": "text/x-python",
   "name": "python",
   "nbconvert_exporter": "python",
   "pygments_lexer": "ipython3",
   "version": "3.6.10"
  }
 },
 "nbformat": 4,
 "nbformat_minor": 2
}
